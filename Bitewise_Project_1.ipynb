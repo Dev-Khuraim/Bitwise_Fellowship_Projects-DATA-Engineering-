{
 "cells": [
  {
   "cell_type": "code",
   "execution_count": null,
   "id": "0f2e70da",
   "metadata": {},
   "outputs": [],
   "source": [
    "from bs4 import BeautifulSoup\n",
    "import requests\n",
    "import pandas as pd\n",
    "import sqlite3\n",
    "url = 'https://web.archive.org/web/20230908091635/https://en.wikipedia.org/wiki/List_of_largest_banks'\n",
    "response  = requests.get(url)\n",
    "soup = BeautifulSoup(response.content, 'html.parser')\n",
    "first_table = soup.find('table')\n",
    "\n",
    "headers=[]\n",
    "\n",
    "headers = [header.text.strip() for header in first_table.find_all('th')]\n",
    "rows = []\n",
    "for row in first_table.find_all('tr')[1:]:\n",
    "    cells = []\n",
    "    cells = [cell.text.strip() for cell in row.find_all('td')]\n",
    "    rows.append(cells)\n",
    "    \n",
    "\n",
    "\n",
    "df = pd.DataFrame(rows, columns=headers)\n",
    "print(df)\n",
    "df[headers[2]] = df[headers[2]].str.replace(',','').astype(float)\n",
    "exchange_rate_data = {\n",
    "    'Currency': ['EUR', 'GBP', 'INR'],\n",
    "    'Rate': [0.93, 0.8, 82.95]\n",
    "}\n",
    "df_exchange_rate = pd.DataFrame(exchange_rate_data)\n",
    "inr_exchange_rate = df_exchange_rate[df_exchange_rate['Currency'] == 'INR']['Rate'].values[0]\n",
    "gbp_exchange_rate = df_exchange_rate[df_exchange_rate['Currency']== 'GBP']['Rate'].values[0]\n",
    "eur_exchange_rate = df_exchange_rate[df_exchange_rate['Currency']=='EUR']['Rate'].values[0]\n",
    "df['Market Cap (INR billion)'] = df[headers[2]]*inr_exchange_rate\n",
    "df['Market Cap (EUR billion)'] = df[headers[2]]*eur_exchange_rate\n",
    "df['Market Cap (GBP billion)'] = df[headers[2]]*gbp_exchange_rate\n",
    "df.to_csv('largest_banks.csv', index=False)\n",
    "\n",
    "try:\n",
    "    df_csv = pd.read_csv('./largest_banks.csv')\n",
    "    con = sqlite3.connect('largest_banks.db')\n",
    "    print('connection established')\n",
    "    df_csv.to_sql('banks', con, if_exists='replace', index=False)\n",
    "except Exception as e:\n",
    "    print(e)\n",
    "\n",
    "con.close()\n",
    "\n"
   ]
  },
  {
   "cell_type": "code",
   "execution_count": null,
   "id": "c0701adc",
   "metadata": {},
   "outputs": [],
   "source": [
    "conn  = sqlite3.connect('largest_banks.db')\n",
    "cur = conn.cursor()\n",
    "query = \"select * from banks\"\n",
    "cur.execute(query)\n",
    "rows = cur.fetchall()\n",
    "columns_name = [des[0] for des in cur.description]\n",
    "df_banks = pd.DataFrame(rows, columns=columns_name)\n",
    "import matplotlib.pyplot as plt\n",
    "\n",
    "# Example: Plot market cap of the largest banks\n",
    "plt.figure(figsize=(10, 6))\n",
    "plt.bar(df_banks['Bank name'], df_banks['Market cap(US$ billion)'])\n",
    "plt.xlabel('Bank Name')\n",
    "plt.ylabel('Market Cap (US$ billion)')\n",
    "plt.title('Market Cap of the World\\'s Largest Banks')\n",
    "plt.xticks(rotation=90)\n",
    "plt.show()\n",
    "\n",
    "log(\"Visualization created.\")\n"
   ]
  },
  {
   "cell_type": "code",
   "execution_count": null,
   "id": "765f2576",
   "metadata": {},
   "outputs": [],
   "source": []
  }
 ],
 "metadata": {
  "kernelspec": {
   "display_name": "Python 3 (ipykernel)",
   "language": "python",
   "name": "python3"
  },
  "language_info": {
   "codemirror_mode": {
    "name": "ipython",
    "version": 3
   },
   "file_extension": ".py",
   "mimetype": "text/x-python",
   "name": "python",
   "nbconvert_exporter": "python",
   "pygments_lexer": "ipython3",
   "version": "3.11.5"
  }
 },
 "nbformat": 4,
 "nbformat_minor": 5
}
